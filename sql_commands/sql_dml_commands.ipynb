{
 "cells": [
  {
   "cell_type": "markdown",
   "id": "8fd5f315-6efc-4d70-9467-dce280a43bcd",
   "metadata": {},
   "source": [
    "### 1. INSERT INTO\n",
    "\n",
    "\tINSERT INTO\n",
    "\t\ttable_name(col1, col2, col3)\n",
    "\tVALUES\n",
    "\t\t(val11, val12, val13),\n",
    "\t\t(val21, val22, val23)"
   ]
  },
  {
   "cell_type": "markdown",
   "id": "82cf737b-54dc-4784-a695-d4d1bd596047",
   "metadata": {},
   "source": [
    "### 2. UPDATE\n",
    "\tUPDATE    \n",
    "\t\ttable_name\n",
    "\tSET\n",
    "\t\tcol1=value1,\n",
    "\t\tcol2=value2\n",
    "\tWHERE\n",
    "\t\tcondition\n",
    "Note: UPDATE is dangerous if the WHERE clause is incorrect, thus, it is better to test it on SELECT clause before using it in UPDATE."
   ]
  },
  {
   "cell_type": "markdown",
   "id": "d75d04a8-ecf9-48cd-a322-5a5e3cab591f",
   "metadata": {},
   "source": [
    "### 3. DELETE FROM\n",
    "\n",
    "\tDELETE FROM\n",
    "\t\ttable_name\n",
    "\tWHERE\n",
    "\t\tcondition\n",
    "Note: \n",
    "- DELETE only deletes the rows and not the TABLE\n",
    "- DELETE without where clause will delete all the rows\n",
    "- DELETE locks the row which is being manipulated\n",
    "- TRUNCATE can be used to delete all rows from the table. This is faster than DELETE as it does not scan through all rows sequentially\n",
    "\n",
    "**TRUNCATE TABLE table_name**"
   ]
  },
  {
   "cell_type": "markdown",
   "id": "85a2e39c-beb7-4d5c-86cf-3557cf28bf6b",
   "metadata": {},
   "source": [
    "### 3. CREATE TABLE\n",
    "\n",
    "\tCREATE TABLE table_name(\n",
    "\tcolumn1 datatype [column_constraint],\n",
    "\tcolumn2 datatype [column_constraint],\n",
    "\tcolumn3 datatype [column_constraint],\n",
    "\t[table_constraints]\n",
    "\t)"
   ]
  },
  {
   "cell_type": "markdown",
   "id": "f41a9bfc-b768-490a-8855-3d9a53922343",
   "metadata": {},
   "source": [
    "### 4. PRIMARY KEY\n",
    "(Can uniquely identify a row, should not have redundant columns)\n",
    "\n",
    "\tCREATE TABLE table_name(\n",
    "\t\tcolumn1 datatype CONSTRAINT constraint_name PRIMARY KEY,\n",
    "\t\tcolumn2 datatype [column_constraint],\n",
    "\t[table_constraints]\n",
    "\t)\n",
    "\n",
    "Note:\n",
    "- PRIMARY KEY is equivalent to Unique + Non-Null\n",
    "- Table can only have one PRIMARY KEY\n",
    "- Can be Simple (single column) or Composite (multiple columns)\n",
    "\n",
    "Example of composite key:\n",
    "\n",
    "\tCREATE TABLE table_name(\n",
    "\t\tcolumn1 datatype,\n",
    "\t\tcolumn2 datatype,\n",
    "\tCONSTRAINT constraint_name PRIMARY KEY (col1, col2 ....)\n",
    "\t)\n"
   ]
  },
  {
   "cell_type": "markdown",
   "id": "952de7e6-867b-4414-86bc-cc5c2c9c132e",
   "metadata": {},
   "source": [
    "### 5. FOREIGN KEY\n",
    "Referential Constraint\n",
    "- Child Table is the table containing the Foreign Key\n",
    "- Parent Table is the table which is Foreign Key to another table references\n",
    "\n",
    "Any new row in the Child table need to have corresponding Foreign Key value in the Parent table.\n",
    "\n",
    "\tCREATE TABLE table_name(\n",
    "\t\tcolumn1 datatype (CONSTRAINT constraint_name) PRIMARY KEY,\n",
    "\t\tcolumn2 datatype (CONSTRAINT constraint_name) REFERENCES parent_key(column_name),\n",
    "\t)\n",
    "    \n",
    "OR\n",
    "\n",
    "\tCREATE TABLE table_name(\n",
    "\t\tcolumn1 datatype (CONSTRAINT constraint_name) PRIMARY KEY,\n",
    "\t\tcolumn2 datatype,\n",
    "        \n",
    "\t(CONSTRAINT constraint_name) FOREIGN KEY (col1, col2 ....) REFERENCES parent_table(col1, col2...)\n",
    "\t)\n",
    "\n",
    "- Foreign keys can be NULL or can have duplicates. The only constraint is that any value of foreign key in child table should not be missing from the parent table."
   ]
  },
  {
   "cell_type": "markdown",
   "id": "7ef10eff-5f64-4514-80d8-34b45ed48429",
   "metadata": {},
   "source": [
    "**Referential Action**\n",
    "(Specify action to be taken, when foreign key constraint is violated using ON UPDATE/ ON DELETE)\n",
    "- NO ACTION\n",
    "- CASCADE: perform same action in child table\n",
    "- SET NULL: set missing foreign key values in Child Table to NULL\n",
    "- SET DEFAULT: set missing foreign key values in Child Table to Default value"
   ]
  },
  {
   "cell_type": "code",
   "execution_count": null,
   "id": "7adac4aa-e2fd-4f05-95b5-e93437f84bd8",
   "metadata": {},
   "outputs": [],
   "source": [
    "**Other Constraints on columns:**\n",
    "- UNIQUE\n",
    "- NOT NULL\n",
    "- DEFAULT\n",
    "- CHECK : similar to WHERE condition"
   ]
  },
  {
   "cell_type": "markdown",
   "id": "5f88ba71-8394-40e2-9aab-ed22f0f485d3",
   "metadata": {},
   "source": [
    "### 5. SERIAL\n",
    "(Serial datatype is an auto-incrementing datatype, and generates values based on previous valus. It can be customized to change the step size)\n",
    "\n",
    "\tCREATE TABLE table_name(\n",
    "\t\tid SERIAL\n",
    "\t\tname VARCHAR(10)\n",
    "\t)"
   ]
  },
  {
   "cell_type": "markdown",
   "id": "0a287645-cc00-4e4d-aa20-d451213dc83d",
   "metadata": {},
   "source": [
    "### 7. TEMPORARY\n",
    "(Used to create temporary table, which one exists for the duration of the session)\n",
    "\n",
    "CREATE TEMPORARY TABLE table_name AS\n",
    "query\n"
   ]
  },
  {
   "cell_type": "markdown",
   "id": "69ce3373-e88c-49a6-ab15-ed4e8fc53586",
   "metadata": {},
   "source": [
    "### 8. ALTER TABLE\n",
    "(Used to Add, Drop, Update table elements such as Column, Constraint etc.)"
   ]
  },
  {
   "cell_type": "code",
   "execution_count": null,
   "id": "d21c3738-4cd4-4d22-a2c1-459e1354ff20",
   "metadata": {},
   "outputs": [],
   "source": []
  },
  {
   "cell_type": "markdown",
   "id": "7e175017-8929-4654-b866-3e67ec5f7430",
   "metadata": {},
   "source": [
    "### 9. DROP TABLE\n",
    "(To delete tables)\n",
    "\n",
    "DROP TABLE [IF EXISTS] table_name\n",
    "\n",
    "DROP TABLE parent_table CASCADE\n",
    "\n",
    "Note: \n",
    "- DROP removes the entire table and everything that is associated with it, where as DELETE and TRUNCATE only remove the data and not the table structure. \n",
    "- CASCADE removes the foreign key constraint from the Child table"
   ]
  },
  {
   "cell_type": "markdown",
   "id": "81d4562b-8efd-4c0c-8c56-5a3884dfa944",
   "metadata": {},
   "source": [
    "## Transactions\n",
    "(Block of code which is committed only if all statements have been executed successfully)\n",
    "\n",
    "BEGIN TRANSACTION;     --Can use START instead of BEGIN\n",
    "\n",
    "UPDATE ..1..;\n",
    "\n",
    "UPDATE ..2..;\n",
    "\n",
    "COMMIT;\n",
    "\n",
    "Note: COMMIT makes all changes permanent in the database. We can use ROLLBACK, in place of COMMIT, to revert all changes at the end of the w UPDATE block."
   ]
  },
  {
   "cell_type": "code",
   "execution_count": null,
   "id": "b2a5aa96-04d3-46de-92d8-8ee21d4e43cd",
   "metadata": {},
   "outputs": [],
   "source": []
  }
 ],
 "metadata": {
  "kernelspec": {
   "display_name": "Python 3 (ipykernel)",
   "language": "python",
   "name": "python3"
  },
  "language_info": {
   "codemirror_mode": {
    "name": "ipython",
    "version": 3
   },
   "file_extension": ".py",
   "mimetype": "text/x-python",
   "name": "python",
   "nbconvert_exporter": "python",
   "pygments_lexer": "ipython3",
   "version": "3.9.7"
  }
 },
 "nbformat": 4,
 "nbformat_minor": 5
}
