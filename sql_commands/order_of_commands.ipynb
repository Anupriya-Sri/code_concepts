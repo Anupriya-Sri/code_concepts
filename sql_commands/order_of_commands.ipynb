{
 "cells": [
  {
   "cell_type": "markdown",
   "id": "73a29cde-6293-466b-93cd-72686eb9553a",
   "metadata": {},
   "source": [
    "# Order of SQL Commands"
   ]
  },
  {
   "cell_type": "markdown",
   "id": "d6c4481e-db08-4fe2-88b9-bda5fc1c97b3",
   "metadata": {},
   "source": [
    "IN SQL, order of commands is very critical. This notebook gives the general order in which SQL commands must be written. "
   ]
  },
  {
   "cell_type": "markdown",
   "id": "d42ede0a-f55c-462e-9cde-590565f7ad42",
   "metadata": {},
   "source": [
    "\t\tSELECT\n",
    "\t\t\tgrouping_columns, aggregated_columns\n",
    "\t\tFROM\n",
    "\t\t\tleft_table\n",
    "\t\t\tJOIN_TYPE\n",
    "\t\t\tright_table\n",
    "\t\t\tON\n",
    "\t\t\tjoin_condition\n",
    "\t\tWHERE\n",
    "\t\t\trow_filter\n",
    "\t\tGROUP BY\n",
    "\t\t\tgrouping_column \n",
    "\t\tHAVING\n",
    "\t\t\tgroup_filter          \n",
    "\t\tORDER BY\n",
    "\t\t\tordering_column ASC/ DESC\n",
    "\t\tLIMIT\n",
    "\t\t\tn_rows OFFSET n_offset;"
   ]
  },
  {
   "cell_type": "code",
   "execution_count": null,
   "id": "75dc330a-09ca-4c94-a51c-ac3c779ceccc",
   "metadata": {},
   "outputs": [],
   "source": []
  }
 ],
 "metadata": {
  "kernelspec": {
   "display_name": "Python 3 (ipykernel)",
   "language": "python",
   "name": "python3"
  },
  "language_info": {
   "codemirror_mode": {
    "name": "ipython",
    "version": 3
   },
   "file_extension": ".py",
   "mimetype": "text/x-python",
   "name": "python",
   "nbconvert_exporter": "python",
   "pygments_lexer": "ipython3",
   "version": "3.9.13"
  }
 },
 "nbformat": 4,
 "nbformat_minor": 5
}
