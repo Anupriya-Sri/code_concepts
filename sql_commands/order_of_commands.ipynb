{
 "cells": [
  {
   "cell_type": "markdown",
   "id": "73a29cde-6293-466b-93cd-72686eb9553a",
   "metadata": {},
   "source": [
    "# Typical order of commands"
   ]
  },
  {
   "cell_type": "markdown",
   "id": "1841c4b7-abfa-4180-a2d2-234e4e01eb0a",
   "metadata": {},
   "source": [
    "\tSELECT\n",
    "\t\tgrouping_columns, aggregated_columns\n",
    "\tFROM\n",
    "\t\ttable_name\n",
    "\tWHERE\n",
    "\t\tcondition\n",
    "\tGROUP BY\n",
    "\t\tgrouping_columns\n",
    "\tORDER BY\n",
    "\t\tgrouping_columns;"
   ]
  },
  {
   "cell_type": "code",
   "execution_count": null,
   "id": "7088326c-464d-4bbc-94f0-ce2f76a11e61",
   "metadata": {},
   "outputs": [],
   "source": []
  }
 ],
 "metadata": {
  "kernelspec": {
   "display_name": "Python 3 (ipykernel)",
   "language": "python",
   "name": "python3"
  },
  "language_info": {
   "codemirror_mode": {
    "name": "ipython",
    "version": 3
   },
   "file_extension": ".py",
   "mimetype": "text/x-python",
   "name": "python",
   "nbconvert_exporter": "python",
   "pygments_lexer": "ipython3",
   "version": "3.9.12"
  }
 },
 "nbformat": 4,
 "nbformat_minor": 5
}
