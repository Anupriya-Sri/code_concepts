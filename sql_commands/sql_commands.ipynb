{
 "cells": [
  {
   "cell_type": "markdown",
   "id": "48777ee1-67bb-49a6-aa0c-6e55b38296cb",
   "metadata": {},
   "source": [
    "# Basic SQL Queries\n",
    "(Below queries are for PostgresSQL)"
   ]
  },
  {
   "cell_type": "markdown",
   "id": "4e9f3b4e-1323-4138-b980-e31c4702f8d2",
   "metadata": {},
   "source": [
    "### 1. SELECT\n",
    "(To extract specific columns from a table: `Projection` operation, picking columns from data)"
   ]
  },
  {
   "cell_type": "markdown",
   "id": "5d458b7c-df7f-449a-a411-5bf55d4df8e6",
   "metadata": {},
   "source": [
    "- From countries table, Select capital and population columns: <br>\n",
    "    **SELECT capital, pop FROM countries**\n",
    "- From countries table, Select all columns: <br>\n",
    "    **SELECT * FROM countries**"
   ]
  },
  {
   "cell_type": "markdown",
   "id": "0c7d33ed-2fed-4648-b439-b68208f796b5",
   "metadata": {},
   "source": [
    "### SELECT - DISTINCT\n",
    "(To extract distinct values from a table)"
   ]
  },
  {
   "cell_type": "markdown",
   "id": "40d21c17-5c92-4b11-b170-f54636bd3a98",
   "metadata": {},
   "source": [
    "- From countries table, Select DISTINCT continent names: <br>\n",
    "    **SELECT DISTINCT continent FROM countries**\n",
    "- From countries table, Select DISTINCT combination of continent and region columns. When multiple column names are given after DISTINCT, unique combination of all those columns is selected and not an unique values for any specific column: <br>\n",
    "    **SELECT DISTINCT continent, region FROM countries**\n",
    "- DISTINCT for any specific columns (Postgres specific command): <br>\n",
    "    **SELECT DISTINCT ON (continent) continent, region FROM countries**"
   ]
  },
  {
   "cell_type": "markdown",
   "id": "bfd6848d-1712-4ed3-b9bf-9cc4a85f9e7c",
   "metadata": {},
   "source": [
    "### 2. WHERE\n",
    "(To filter rows based on condition on specific fields)"
   ]
  },
  {
   "cell_type": "markdown",
   "id": "12776e8d-6f44-4d4f-82f5-d6889a352d94",
   "metadata": {},
   "source": [
    "From countries table, Select all capital cities in Asia: <br>\n",
    "**SELECT country, capital FROM countries\n",
    "        WHERE continent='Asia'**"
   ]
  },
  {
   "cell_type": "markdown",
   "id": "8e7d4e40-ae5e-4cb5-b20d-308a42f82b24",
   "metadata": {},
   "source": [
    "### 3. GROUP BY\n",
    "(To group rows based on common values in a column, and extract aggregate values)"
   ]
  },
  {
   "cell_type": "markdown",
   "id": "9c824f55-8a0e-4adc-b46c-ab7206b2d338",
   "metadata": {},
   "source": [
    "From countries table, get total population of continents: <br>\n",
    "**SELECT SUM(pop) AS total_population, continent <br>\n",
    "    FROM countries<br>\n",
    "    GROUP BY continent**"
   ]
  },
  {
   "cell_type": "markdown",
   "id": "1fbf4bd0-d283-4811-96e6-a5a47f8283fd",
   "metadata": {},
   "source": [
    "Notes:\n",
    "- When GROUP BY clause is used, columns cannot be included in SELECT without aggregation functions except those columns have been used from Grouping\n",
    "- Aggregation functions can be SUM, AVG, MAX, MIN, COUNT\n",
    "- Alias can be specified (e.g. total_poulation)"
   ]
  },
  {
   "cell_type": "markdown",
   "id": "dca4d52d-d4bd-4764-881d-c706b534d644",
   "metadata": {},
   "source": [
    "### 4. HAVING\n",
    "(Aggregation functions cannot be in WHERE clause for filtering rows. To filter using aggregate values, HAVING clause is used)\n",
    "\n",
    "From countries table, get continents with total population > 1000000: <br>\n",
    "**SELECT SUM(pop) AS total_population, continent <br>\n",
    "    FROM countries<br>\n",
    "    GROUP BY continent<br>\n",
    "    HAVING SUM(pop) > 1000000**\n",
    "    \n",
    "Notes:\n",
    "- Alias cannot be used in grouping and filtering clauses. This is because aggregate function are applied on the grouped and selected data, so alias is not available before that."
   ]
  },
  {
   "cell_type": "markdown",
   "id": "468247b7-b3be-4d2a-9653-85cbea8ab2d0",
   "metadata": {},
   "source": [
    "### 4. ORDER BY\n",
    "(To sort in ascending or descending order)\n",
    "\n",
    "From countries table, get total population of continents. Sort in ascending order: <br>\n",
    "**SELECT SUM(pop) AS total_population, continent <br>\n",
    "    FROM countries<br>\n",
    "    GROUP BY continent<br>\n",
    "    ORDER BY total_population**\n",
    "\n",
    "Notes:\n",
    "- Default Order is ASC (ascending), uses `ORDER BY total_population DESC` for sorting in descending order. \n",
    "- Alias can be used in ORDER BY clause\n",
    "- Can specify ORDER BY multiple columns: `ORDER BY total_population DESC, continent ASC`\n",
    "- ORDER BY column should appear in the SELECT clause because Ordering happens after Select."
   ]
  },
  {
   "cell_type": "markdown",
   "id": "44a2b4d1-b843-4e6b-b447-af20348e1089",
   "metadata": {},
   "source": [
    "### 5. LIMIT\n",
    "(To specify the number of rows to return)\n",
    "\n",
    "From countries table, select the two largest continents in terms of total population: <br>\n",
    "**SELECT SUM(pop) AS total_population, continent <br>\n",
    "    FROM countries<br>\n",
    "    GROUP BY continent<br>\n",
    "    ORDER BY total_population DESC<br>\n",
    "    LIMIT 2**\n",
    "    \n",
    "Note: Limit restricts the number of actual rows returned by the query, and makes the program more memory efficient. This is different from pandas dataframe .head(), where limited number of rows are visible but all are loaded in the memory."
   ]
  },
  {
   "cell_type": "markdown",
   "id": "6eccbe0f-4185-4ab6-8e41-5a5854b10db1",
   "metadata": {},
   "source": [
    "## LIMIT - OFFSET\n",
    "(To specify the number of rows to return, after skipping initial `offset` number of rows)"
   ]
  },
  {
   "cell_type": "markdown",
   "id": "ad488e50-203b-4a28-8292-81a6029e8f2c",
   "metadata": {},
   "source": [
    "From countries table, select the second and third largest continents in terms of total population (i.e skip the first row): <br>\n",
    "**SELECT SUM(pop) AS total_population, continent <br>\n",
    "    FROM countries<br>\n",
    "    GROUP BY continent<br>\n",
    "    ORDER BY total_population DESC<br>\n",
    "    LIMIT 2 OFFSET 1**   "
   ]
  },
  {
   "cell_type": "code",
   "execution_count": null,
   "id": "1295cf08-b1c8-4501-908f-adb74abc92a0",
   "metadata": {},
   "outputs": [],
   "source": []
  },
  {
   "cell_type": "code",
   "execution_count": null,
   "id": "8766d7f8-68e4-4d4d-9589-2c675ac40c0b",
   "metadata": {},
   "outputs": [],
   "source": []
  },
  {
   "cell_type": "code",
   "execution_count": null,
   "id": "b744093d-72a7-4617-b3a3-e476d5fec8f5",
   "metadata": {},
   "outputs": [],
   "source": []
  },
  {
   "cell_type": "code",
   "execution_count": null,
   "id": "9ae2f1ed-0d5d-4f4f-b33f-90e87b9293d7",
   "metadata": {},
   "outputs": [],
   "source": []
  },
  {
   "cell_type": "code",
   "execution_count": null,
   "id": "ffa10d5a-578e-4fcf-b347-76a6965e6ee8",
   "metadata": {},
   "outputs": [],
   "source": []
  },
  {
   "cell_type": "markdown",
   "id": "87f16b8e-f7b4-4e59-8fb5-bc7ddeb188fb",
   "metadata": {},
   "source": [
    "Overall Notes: \n",
    "- Order of keywords is important in SQL"
   ]
  },
  {
   "cell_type": "code",
   "execution_count": null,
   "id": "94a74f0a-2a29-42e6-b7d4-988055b06031",
   "metadata": {},
   "outputs": [],
   "source": [
    "### 6. JOIN (INNER, LEFT, RIGHT)\n",
    "(To create virtual tables using )\n",
    "Inner Join clause creates a new table (not physical) by combining rows that have matching values in two or more tables.\n",
    "Example: Query all employee information and their divisions of the department.\n",
    "Note: Blue table is the first table and the green table is our second table.\n",
    "SELECT * FROM employees e\n",
    "INNER JOIN departments d\n",
    "ON e.department = d.department\n",
    "result from data sample where inner joins were used by data scientists using SQL\n",
    "The Left Join returns all rows from the left table and the matching rows from the right table. If no matching rows are found in the right table, NULL is used. (vice versa for Right Join)\n",
    "Example: Write a query that prints all departments from employees and matches departments from the department table.\n",
    "SELECT e.department,d.department FROM employees e\n",
    "LEFT JOIN departments  d\n",
    "ON e.department = d.department\n",
    "result from data sample where right joins and left joins were used by data scientists using SQL"
   ]
  },
  {
   "cell_type": "code",
   "execution_count": null,
   "id": "c099d5d6-4224-4983-be68-7e763d90b958",
   "metadata": {},
   "outputs": [],
   "source": [
    "5. Date Functions\n",
    "In PostgreSQL, you can easily extract values from date columns. You will see the most used date functions below.\n",
    "SELECT \n",
    "date_part('year',hire_date) as year,\n",
    "date_part('month',hire_date) as month,\n",
    "date_part('day',hire_date) as day,\n",
    "date_part('dow',hire_date) as dayofweek,\n",
    "to_char(hire_date, 'Dy') as day_name,\n",
    "to_char(hire_date,'Month') as month_name,\n",
    "hire_date\n",
    "FROM employees\n",
    "result from data sample where DATE FUNTION was used by data scientists using SQL\n",
    "Date Functions Output"
   ]
  },
  {
   "cell_type": "code",
   "execution_count": null,
   "id": "78aa3eab-63f5-435f-8587-805c8af34b7c",
   "metadata": {},
   "outputs": [],
   "source": [
    "7. Subqueries\n",
    "A subquery is a SQL query nested inside a larger query.\n",
    "A subquery may occur in:\n",
    "a SELECT clause\n",
    "a FROM clause\n",
    "a WHERE clause\n",
    "Example: Query first_name, department, and salary of each employee and also maximum salary given.\n",
    "SELECT first_name,department,salary,(SELECT max(salary) FROM employees)\n",
    "FROM employees\n",
    "result from data sample where subqueries were used by data scientists using SQL\n",
    "QUE"
   ]
  },
  {
   "cell_type": "code",
   "execution_count": null,
   "id": "64c11062-f7f3-4a3d-a9f0-206094bb4ca6",
   "metadata": {},
   "outputs": [],
   "source": [
    "8. Correlated Subqueries\n",
    "A correlated subquery is one way of reading every row in a table and comparing values in each row against related data. It is used whenever a subquery must return a different result or set of results for each candidate row considered by the main query.\n",
    "Example: Write a query that finds the first name, salary, department, and average salary by department.\n",
    "SELECT first_name,salary,department,round((SELECT AVG(salary) \n",
    "    FROM employees e2\n",
    "    WHERE e1.department = e2.department\n",
    "    GROUP BY department )) as avg_salary_by_department\n",
    "FROM employees e1 \n",
    "WHERE salary > (SELECT AVG(salary) \n",
    "    FROM employees e2\n",
    "    WHERE e1.department = e2.department\n",
    "    GROUP BY department )\n",
    "ORDER BY salary\n",
    "result from data sample where corelated subqueries were used by data scientistsusing SQL"
   ]
  },
  {
   "cell_type": "code",
   "execution_count": null,
   "id": "fff9d98c-ed7c-42d6-93e4-2dcefd40c53c",
   "metadata": {},
   "outputs": [],
   "source": [
    "9. Case When Clause\n",
    "The CASE statement is used to implement the logic where you want to set the value of one column depending upon the values in other columns.\n",
    "It is similar to the IF-ELSE statement in Excel.\n",
    "Example: Write a query to print the first name, salary, and average salary as well as a new column that shows whether employees' salary is higher than average or not.\n",
    "SELECT first_name,salary,(SELECT ROUND(AVG(salary)) FROM employees) as average_salary,\n",
    "(CASE WHEN salary > (SELECT AVG(salary) FROM employees) THEN 'higher_than_average'\n",
    "ELSE 'lower_than_average' END) as Salary_Case\n",
    "FROM employees\n",
    "result from data sample where CASE WHEN clause was used by data scientists using SQL"
   ]
  },
  {
   "cell_type": "markdown",
   "id": "8ccb4dd6-c05c-4145-ade0-8ae87a28c8ef",
   "metadata": {},
   "source": [
    "10. Comments\n",
    "- `--` for single line or inline comments\n",
    "- `\\*     *\\` for multi-line comments "
   ]
  },
  {
   "cell_type": "markdown",
   "id": "fae06c51-e7e9-4e44-8be3-35b98c10377d",
   "metadata": {},
   "source": [
    "10. Window Functions\n",
    "Window functions apply aggregate and ranking functions over a particular window (set of rows). OVER clause is used with window functions to define that window. OVER clause does two things:\n",
    "Partitions rows to form set of rows (PARTITION BY clause is used).\n",
    "Orders rows within those partitions into a particular order (ORDER BY clause is used).\n",
    "Various aggregate functions such as SUM(), COUNT(), AVERAGE(), MAX(), and MIN() applied over a particular window (set of rows) are called aggregate window functions.\n",
    "10.1. Aggregation Examples\n",
    "The following query will give you the average salary for each department.\n",
    "SELECT first_name,salary,department,\n",
    "ROUND(AVG(salary) OVER(PARTITION BY department)) as avg_sales_by_dept\n",
    "FROM employees\n",
    "ORDER BY salary DESC\n",
    "result from data sample where aggregation was used by data scientists using SQL\n",
    "Aggregate Window Functions\n",
    "10.2.Ranking the Values\n",
    "The Rank() function is a window function that assigns a rank to each row within a partition of a result set.\n",
    "The following example orders the table by the salary (descending). A rank value of 1 is the highest salary value.\n",
    "SELECT first_name,salary,RANK() OVER(ORDER BY salary DESC)\n",
    "FROM employees\n",
    "result from data sample where ranking was used by data scientists using SQL\n",
    "These are the queries that are used commonly by data professionals.\n",
    "Hope you found it helpful! Thanks for reading!"
   ]
  }
 ],
 "metadata": {
  "kernelspec": {
   "display_name": "Python 3 (ipykernel)",
   "language": "python",
   "name": "python3"
  },
  "language_info": {
   "codemirror_mode": {
    "name": "ipython",
    "version": 3
   },
   "file_extension": ".py",
   "mimetype": "text/x-python",
   "name": "python",
   "nbconvert_exporter": "python",
   "pygments_lexer": "ipython3",
   "version": "3.9.7"
  }
 },
 "nbformat": 4,
 "nbformat_minor": 5
}
