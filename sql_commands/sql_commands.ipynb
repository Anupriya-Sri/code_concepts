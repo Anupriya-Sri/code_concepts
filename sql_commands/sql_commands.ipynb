{
 "cells": [
  {
   "cell_type": "markdown",
   "id": "48777ee1-67bb-49a6-aa0c-6e55b38296cb",
   "metadata": {},
   "source": [
    "# Basic SQL Queries\n",
    "(Below queries are for PostgresSQL)"
   ]
  },
  {
   "cell_type": "markdown",
   "id": "4e9f3b4e-1323-4138-b980-e31c4702f8d2",
   "metadata": {},
   "source": [
    "### 1. SELECT\n",
    "(To extract specific columns from a table: `Projection` operation, picking columns from data)"
   ]
  },
  {
   "cell_type": "markdown",
   "id": "5d458b7c-df7f-449a-a411-5bf55d4df8e6",
   "metadata": {},
   "source": [
    "- From countries table, Select capital and population columns: <br>\n",
    "    **SELECT capital, pop FROM countries**\n",
    "- From countries table, Select all columns: <br>\n",
    "    **SELECT * FROM countries**"
   ]
  },
  {
   "cell_type": "markdown",
   "id": "0c7d33ed-2fed-4648-b439-b68208f796b5",
   "metadata": {},
   "source": [
    "### SELECT - DISTINCT\n",
    "(To extract distinct values from a table)"
   ]
  },
  {
   "cell_type": "markdown",
   "id": "40d21c17-5c92-4b11-b170-f54636bd3a98",
   "metadata": {},
   "source": [
    "- From countries table, Select DISTINCT continent names: <br>\n",
    "    **SELECT DISTINCT continent FROM countries**\n",
    "- From countries table, Select DISTINCT combination of continent and region columns. When multiple column names are given after DISTINCT, unique combination of all those columns is selected and not an unique values for any specific column: <br>\n",
    "    **SELECT DISTINCT continent, region FROM countries**\n",
    "- DISTINCT for any specific columns (Postgres specific command): <br>\n",
    "    **SELECT DISTINCT ON (continent) continent, region FROM countries**"
   ]
  },
  {
   "cell_type": "markdown",
   "id": "57c57860-4636-492e-aa6a-940d645f0224",
   "metadata": {},
   "source": [
    "Note:\n",
    "- SELECT is the only command in SQL that can be used for doing computations e.g. SELECT runtime/60. AS duration FROM movies. If 60 is given without `.`, it will truncate the value to integer.\n",
    "- AS is used to give aliases, e.g SELECT avg_pop AS \"Average Population\". Aliases are used extensively during Joins. `\" \"` is used only when identifiers have space between them."
   ]
  },
  {
   "cell_type": "markdown",
   "id": "bfd6848d-1712-4ed3-b9bf-9cc4a85f9e7c",
   "metadata": {},
   "source": [
    "### 2. WHERE\n",
    "(To filter rows based on condition on specific fields)"
   ]
  },
  {
   "cell_type": "markdown",
   "id": "12776e8d-6f44-4d4f-82f5-d6889a352d94",
   "metadata": {},
   "source": [
    "From countries table, Select all capital cities in Asia: <br>\n",
    "**SELECT country, capital FROM countries\n",
    "        WHERE continent='Asia'**\n",
    "        \n",
    "Note:\n",
    "- Aliases cannot be used in the WHERE clause. This is because SQL first filters, then selects. So, alias is not available when WHERE clause is executed."
   ]
  },
  {
   "cell_type": "markdown",
   "id": "0cc5bd55-3d71-432c-a746-b16f66bcfc62",
   "metadata": {},
   "source": [
    "## Condition testing:\n",
    "- Comparison (=, <>, <, <=, >, >=)\n",
    "- Pattern Matching (LIKE, NOT LIKE, ILIKE): ILIKE is for case insensitive\n",
    "- Range (BETWEEN): returns values between two numbers, letters or times, where both values are inclusive. column_name [NOT] BETWEEN val1 AND val2\n",
    "- List (IN): check value is in a list. column_name [NOT] IN (val1, val2, val3)\n",
    "- Null Testing (IS NULL)\n",
    "\n",
    "## AND, OR, NOT\n",
    "- Logical operators to combine multiple conditions. By default, AND takes precedence over OR/ NOT. SO, we need to use `( )` to specify the order of logical operators.\n",
    "- Use of NOT: WHERE NOT condition"
   ]
  },
  {
   "cell_type": "markdown",
   "id": "99b3b842-2b1d-453b-9eaf-1320f4f098c4",
   "metadata": {},
   "source": [
    "## Pattern Matching\n",
    "\n",
    "- % : any number of characters. ESCAPE : **WHERE name LIKE '%$%%' ESCAPE '$'\n",
    "- _ : for single character (__ : two characters, and so on)\n"
   ]
  },
  {
   "cell_type": "markdown",
   "id": "8e7d4e40-ae5e-4cb5-b20d-308a42f82b24",
   "metadata": {},
   "source": [
    "### 3. GROUP BY\n",
    "(To group rows based on common values in a column, and extract aggregate values)"
   ]
  },
  {
   "cell_type": "markdown",
   "id": "9c824f55-8a0e-4adc-b46c-ab7206b2d338",
   "metadata": {},
   "source": [
    "From countries table, get total population of continents: <br>\n",
    "**SELECT SUM(pop) AS total_population, continent <br>\n",
    "    FROM countries<br>\n",
    "    GROUP BY continent**"
   ]
  },
  {
   "cell_type": "markdown",
   "id": "1fbf4bd0-d283-4811-96e6-a5a47f8283fd",
   "metadata": {},
   "source": [
    "Notes:\n",
    "- When GROUP BY clause is used, columns cannot be included in SELECT without aggregation functions except those columns have been used from Grouping\n",
    "- Aggregation functions can be SUM, AVG, MAX, MIN, COUNT\n",
    "- Alias can be specified (e.g. total_poulation)\n",
    "- GROUP BY comes after the WHERE clause and before ORDER BY clause\n",
    "- We can use multiple columns in the GROUP BY clause, and all unique combination of those columns would be returned back."
   ]
  },
  {
   "cell_type": "markdown",
   "id": "dca4d52d-d4bd-4764-881d-c706b534d644",
   "metadata": {},
   "source": [
    "### 4. HAVING\n",
    "(Aggregation functions cannot be in WHERE clause for filtering rows. To filter using aggregate values at grouped level, HAVING clause is used)\n",
    "\n",
    "From countries table, get continents with total population > 1000000: <br>\n",
    "**SELECT SUM(pop) AS total_population, continent <br>\n",
    "    FROM countries<br>\n",
    "    GROUP BY continent<br>\n",
    "    HAVING SUM(pop) > 1000000**\n",
    "    \n",
    "Notes:\n",
    "- HAVING comes just after GROUP BY, it is a part of the group by clause; and can be done using   \n",
    "- Alias cannot be used in grouping and filtering clauses. This is because aggregate function are applied on the grouped and selected data, so alias is not available before that."
   ]
  },
  {
   "cell_type": "markdown",
   "id": "9eebb698-6731-4a38-a246-f0d6f82d98dd",
   "metadata": {},
   "source": [
    "#### WHERE filters before grouping, HAVING filters after grouping"
   ]
  },
  {
   "cell_type": "markdown",
   "id": "468247b7-b3be-4d2a-9653-85cbea8ab2d0",
   "metadata": {},
   "source": [
    "### 4. ORDER BY\n",
    "(To sort in ascending or descending order)\n",
    "\n",
    "From countries table, get total population of continents. Sort in ascending order: <br>\n",
    "**SELECT SUM(pop) AS total_population, continent <br>\n",
    "    FROM countries<br>\n",
    "    GROUP BY continent<br>\n",
    "    ORDER BY total_population**\n",
    "\n",
    "Notes:\n",
    "- Default Order is ASC (ascending), uses `ORDER BY total_population DESC` for sorting in descending order. \n",
    "- Alias can be used in ORDER BY clause\n",
    "- Can specify ORDER BY multiple columns: `ORDER BY total_population DESC, continent ASC`\n",
    "- ORDER BY column should appear in the SELECT clause because Ordering happens after Select."
   ]
  },
  {
   "cell_type": "markdown",
   "id": "44a2b4d1-b843-4e6b-b447-af20348e1089",
   "metadata": {},
   "source": [
    "### 5. LIMIT\n",
    "(To specify the number of rows to return)\n",
    "\n",
    "From countries table, select the two largest continents in terms of total population: <br>\n",
    "**SELECT SUM(pop) AS total_population, continent <br>\n",
    "    FROM countries<br>\n",
    "    GROUP BY continent<br>\n",
    "    ORDER BY total_population DESC<br>\n",
    "    LIMIT 2**\n",
    "    \n",
    "Note: Limit restricts the number of actual rows returned by the query, and makes the program more memory efficient. This is different from pandas dataframe .head(), where limited number of rows are visible but all are loaded in the memory."
   ]
  },
  {
   "cell_type": "markdown",
   "id": "6eccbe0f-4185-4ab6-8e41-5a5854b10db1",
   "metadata": {},
   "source": [
    "## LIMIT - OFFSET\n",
    "(To specify the number of rows to return, after skipping initial `offset` number of rows)"
   ]
  },
  {
   "cell_type": "markdown",
   "id": "ad488e50-203b-4a28-8292-81a6029e8f2c",
   "metadata": {},
   "source": [
    "From countries table, select the second and third largest continents in terms of total population (i.e skip the first row): <br>\n",
    "**SELECT SUM(pop) AS total_population, continent <br>\n",
    "    FROM countries<br>\n",
    "    GROUP BY continent<br>\n",
    "    ORDER BY total_population DESC<br>\n",
    "    LIMIT 2 OFFSET 1**   "
   ]
  },
  {
   "cell_type": "markdown",
   "id": "edfcd464-1995-4b40-93cb-d0777c99bcfb",
   "metadata": {},
   "source": [
    "## 5. JOINS\n",
    "(To retrieve data from two or more tables simultaneously and create virtual tables from a database)\n",
    "\n",
    "**SELECT columns <br>\n",
    "FROM left_table <br>\n",
    "    JOIN_TYPE <br>\n",
    "    right_table <br>\n",
    "    ON <br>\n",
    "    join_condition <br>\n",
    "WHERE row_filter <br>\n",
    "GROUP BY grouping_column <br>\n",
    "HAVING group_filter <br>\n",
    "ORDER BY ordering_column ASC/DESC <br>\n",
    "LIMIT 2 OFFSET 1**"
   ]
  },
  {
   "cell_type": "markdown",
   "id": "816720fc-6dfa-4bc4-b8b4-d7e5f52a7a6a",
   "metadata": {},
   "source": [
    "**Type of Joins**\n",
    "\n",
    "**A. CROSS_JOIN**\n",
    "- Combines all rows of one table with all rows of the other table, without any condition (m x n rows)\n",
    "**SELECT col1, col2, rt.col2 FROM left_table CROSS JOIN right_table AS rt;**\n",
    "\n",
    "Note: \n",
    "- If there are common column names, we use simple table aliases or full table name before the column names.\n",
    "- Table aliases are valid only for the duration of the query\n",
    "- Each join is initially a CROSS JOIN, and then filtered based on condition.\n",
    "- If alias is given, then we have to use the alias all the time, throughout the query, because we have decided to change the name of the table."
   ]
  },
  {
   "cell_type": "markdown",
   "id": "d556ffd6-b810-4d1f-8a0a-0f31b18b1257",
   "metadata": {},
   "source": [
    "**B. INNER_JOIN**\n",
    "- Intersection: only retrieves rows that are common to both the tables\n",
    "- Only returns the records for which key are matched between the two or more tables\n",
    "\n",
    "**SELECT lt.col1, rt.col2 FROM left_table AS lt INNER JOIN right_table AS rt ON lt.id = rt.id**"
   ]
  },
  {
   "cell_type": "markdown",
   "id": "cff62863-b083-482f-9c75-ba53bded11a8",
   "metadata": {},
   "source": [
    "**C. SELF_JOIN**\n",
    "- To Join all rows from one table with itself.\n",
    "- Use case: Find the instructors who work in the same department\n",
    "- Same table has two aliases\n",
    "\n",
    "**SELECT t1.name, t1.department, t2.name, t2.department <br>\n",
    "FROM table t1 JOIN table t2 <br>\n",
    "ON t1.department = t2.department AND t1.id <> t2.id;**\n",
    "\n",
    "Note: t1.id <> t2.id is used to self mapped names"
   ]
  },
  {
   "cell_type": "markdown",
   "id": "90bf5ad1-5f78-4b9a-81f5-5f33c2944b8c",
   "metadata": {},
   "source": [
    "**D. NATURAL JOIN**\n",
    "- Automatically joins all columns with similar values"
   ]
  },
  {
   "cell_type": "markdown",
   "id": "3878767a-c76f-440d-b710-ec86a547ad1e",
   "metadata": {},
   "source": [
    "**E. LEFT OUTER JOIN / LEFT JOIN**\n",
    "- All values from left table are returned and only matching values from the right table are returned. If no matching values are found in the right table, NULL is returned.\n",
    "**F. RIGHT OUTER JOIN / RIGHT JOIN**\n",
    "- All values from right table are returned and only matching values from the left table are returned. If no matching values are found in the left table, NULL is returned.\n",
    "**G. FULL OUTER JOIN / FULL JOIN**\n",
    "- All values from right table are returned and only matching values from the left table are returned\n",
    "- Cross Join matches all rows regardless of any condition and has no NUll Values. Full join first finds the matching rows and then adds the non-matching rows with NULL values."
   ]
  },
  {
   "cell_type": "markdown",
   "id": "2fcf118e-68df-4061-bf32-c4e3c150e3ea",
   "metadata": {},
   "source": [
    "**USING WITH JOINS**\n",
    "- Can be used instead of ON with Joins, to select the columns whose value needs to be matched, e.g. ON t1.colt1 = t2.colt2\n",
    "\n",
    "**SELECT * <br>\n",
    "FROM table1 AS t1 <br>\n",
    "JOIN table2 AS t2 <br>\n",
    "USING (col1, col2, col3)**"
   ]
  },
  {
   "cell_type": "markdown",
   "id": "f91586cb-7944-414a-99b1-39664fe38557",
   "metadata": {},
   "source": [
    "## CASE - WHEN clause\n",
    "\n",
    "To set the value of one column conditionally depending upon the value of another column e.g.: <br>\n",
    "\n",
    "\tSELECT\n",
    "\t\tCASE\n",
    "\t\t\tWHEN runtime > 90 THEN 'long'\n",
    "\t\t\tWHEN runtime BETWEEN 30 AND 90 THEN 'normal'\n",
    "\t\t\tELSE 'short'\n",
    "\t\tEND AS run_type\n",
    "        \n",
    "General format for CASE-WHEN is:\n",
    "\n",
    "\tSELECT\n",
    "\t\tCASE\n",
    "\t\t\tWHEN condition_1 THEN expression_1\n",
    "\t\t\tWHEN condition_2 THEN expression_2\n",
    "\t\t\tELSE expression_3\n",
    "\t\tEND AS alias"
   ]
  },
  {
   "cell_type": "markdown",
   "id": "88e071ad-d3a7-4748-8801-abf156d0cb3e",
   "metadata": {},
   "source": [
    "## Aggregation Functions\n",
    "(Performed overall on the selected column)\n",
    "\n",
    "- COUNT()\n",
    "- MIN(), MAX()\n",
    "- SUM(), AVG()\n",
    "\n",
    "Note:\n",
    "- All aggregation function ignore NULL values, except COUNT(*)\n",
    "- MIN(), MAX() can be used for string values also\n",
    "- We can have multiple aggregation functions can be used together but we cannot have non-aggregated columns along with an aggregate column, unless the non-aggregated column is used in GROUP BY clause.\n",
    "- Aggregation functions are executed after Selection, so, we CANNOT use aggregation functions within the WHERE clause. We use SUB-QUERIES for this."
   ]
  },
  {
   "cell_type": "markdown",
   "id": "bf8d2946-1add-4833-b736-51c48b360055",
   "metadata": {},
   "source": [
    "## SUBQUERIES\n",
    "\n",
    "A SELECT statement that can be used inside another SQL statement. So, subquery is a nested/ INNER query within a larger/OUTER query."
   ]
  },
  {
   "cell_type": "markdown",
   "id": "96672410-e547-4900-885c-6fb62f058aab",
   "metadata": {},
   "source": [
    "**SIMPLE/ UNCORRELATED SUBQUERY:** A subquery where the inner query is completely independent of the outer query\n",
    "\n",
    "e.g. SELECT countries whose area is more than the average area for all countries\n",
    "\n",
    "**SELECT country FROM countries WHERE area > \n",
    "        (SELECT AVG(area) FROM countries)**"
   ]
  },
  {
   "cell_type": "markdown",
   "id": "1066536c-9136-47cd-a442-9068aa598833",
   "metadata": {},
   "source": [
    "**CORRELATED SUBQUERY:** The outer query is dependent upon what is happening in the inner query. In this SQL goes row by row in the original query and compares it to each row in the inner query i.e. every row in a table is compared against related data. Correlated subquery is used when the subquery has to return different results for each row of the original query. This is analogous to nested for-loop in python. It has big-O of n^2. Hence, it is very slow.\n",
    "\n",
    "e.g. SELECT country from each continent which has the maximum population in that continent\n",
    "\n",
    "**SELECT c1.name, c1.continent FROM country c1 WHERE c1.population = (SELECT max(c2.population) FROM country c2 WHERE c2.continent = c1.continent);**\n",
    "\n",
    "Notes:\n",
    "- SUB-QUERIES must be enclosed in `( )` and should not end with `,`\n",
    "- Can be used in SELECT, FROM, WHERE, HAVING or other clauses\n",
    "- SUBQUERIES vs JOIN: Subqueries are generally more readable but they do not give access to columns in the INNER table. Joins are generally faster but joins give a lot of redundant data during join and then filter, so it is more memory intensive. "
   ]
  },
  {
   "cell_type": "markdown",
   "id": "da894c2f-84d7-4509-aa89-3b2d97490c22",
   "metadata": {},
   "source": [
    "### ANY | ALL (in subqueries)\n",
    "\n",
    "These key words are used to check if the values in outer query are equal to `Any` or `All` values in the inner query."
   ]
  },
  {
   "cell_type": "markdown",
   "id": "79b90b18-67f0-4759-b87d-918ea1818120",
   "metadata": {},
   "source": [
    "### EXISTS or NOT EXISTS\n",
    "\n",
    "This key word is used to determine if the Subquery returns any row. It can be used in simple or correlated quesries but are typically used in correlated subqueries."
   ]
  },
  {
   "cell_type": "markdown",
   "id": "b8661ab7-0aec-42e8-9f83-27db390bab56",
   "metadata": {},
   "source": []
  },
  {
   "cell_type": "markdown",
   "id": "d0eeeab4-c20c-407d-936b-81265e7cd314",
   "metadata": {},
   "source": [
    "## CAST - AS\n",
    "(Used for Datatype conversion)\n",
    "\n",
    "**CAST (column_name AS data_type)**\n",
    "\n",
    "Note: Postgres specific CAST: column_name::data_type"
   ]
  },
  {
   "cell_type": "markdown",
   "id": "eaa11020-5613-4f76-9807-ef3a081addf5",
   "metadata": {},
   "source": [
    "## TIMEZONE\n",
    "\n",
    "**SHOW TIMEZONE**\n",
    "\n",
    "**SET timezone = 'America/New_York'**"
   ]
  },
  {
   "cell_type": "markdown",
   "id": "9d5d8cfc-7c06-40f7-a5c3-f1621715e282",
   "metadata": {},
   "source": [
    "## Mathematical Operators\n",
    "\n",
    "- Operators: +, -, *, /, % (modulo, remainder), ^ (exponent), @ (absolute value, without sign)\n",
    "- Functions: abs(), ceil(), exp(), floor(), ln(), log(), pi(), power(), round(), sqrt(), round() works only with NUMERIC data types and not with REAL"
   ]
  },
  {
   "cell_type": "markdown",
   "id": "0ed6d5da-2424-4a85-a36c-b50b4c13f26a",
   "metadata": {},
   "source": [
    "## String Functions\n",
    "- Concatenation `||`. Non string values are type casted to String.\n",
    "- length(), lower(), upper(), position(substring in string) : count starts with 1, substring(string from position for characters)"
   ]
  },
  {
   "cell_type": "markdown",
   "id": "0bac5272-07d4-4b02-841a-23189dabbe03",
   "metadata": {},
   "source": [
    "## Datetime Operators\n",
    "\n",
    "- +, -, *, / , work on datetime objects\n",
    "- CURRENT_DATE, NOW(), CURRENT_TIME(0), CURRENT_TIMESTAMP(0), LOCALTIME(0), LOCALTIMESTAMP(0) : Number represents precision of the date-time object\n",
    "- EXTRACT is used to take out bits of date-time object:\n",
    "    **EXTRACT (hour FROM NOW())**\n",
    "- age() function to calculate "
   ]
  },
  {
   "cell_type": "markdown",
   "id": "5c0a0f8b-63c0-49f2-bdca-2809da56848a",
   "metadata": {},
   "source": [
    "## NULLIF\n",
    "(Returns NULL value if column contains a certain value)\t\n",
    "\t\n",
    "\tSELECT\n",
    "\t\tNULLIF(column_name, value)\n",
    "\tFROM\n",
    "\t\ttable_name"
   ]
  },
  {
   "cell_type": "markdown",
   "id": "87f16b8e-f7b4-4e59-8fb5-bc7ddeb188fb",
   "metadata": {},
   "source": [
    "Overall Notes: \n",
    "- Order of keywords is important in SQL\n",
    "- Order of Operations: Arithmetic (+, *) >> Comparison (<, >=) >> Logical (AND, OR)"
   ]
  },
  {
   "cell_type": "code",
   "execution_count": null,
   "id": "2d184cd1-51f3-48c5-a4d1-a7f629cdbe8b",
   "metadata": {},
   "outputs": [],
   "source": [
    "SELECT version() : shows version of Postgres"
   ]
  },
  {
   "cell_type": "markdown",
   "id": "19754f7a-d505-4f13-a4f6-d3b08a28627c",
   "metadata": {},
   "source": []
  },
  {
   "cell_type": "code",
   "execution_count": null,
   "id": "94a74f0a-2a29-42e6-b7d4-988055b06031",
   "metadata": {},
   "outputs": [],
   "source": []
  },
  {
   "cell_type": "code",
   "execution_count": null,
   "id": "c099d5d6-4224-4983-be68-7e763d90b958",
   "metadata": {},
   "outputs": [],
   "source": [
    "5. Date Functions\n",
    "In PostgreSQL, you can easily extract values from date columns. You will see the most used date functions below.\n",
    "SELECT \n",
    "date_part('year',hire_date) as year,\n",
    "date_part('month',hire_date) as month,\n",
    "date_part('day',hire_date) as day,\n",
    "date_part('dow',hire_date) as dayofweek,\n",
    "to_char(hire_date, 'Dy') as day_name,\n",
    "to_char(hire_date,'Month') as month_name,\n",
    "hire_date\n",
    "FROM employees\n",
    "result from data sample where DATE FUNTION was used by data scientists using SQL\n",
    "Date Functions Output"
   ]
  },
  {
   "cell_type": "code",
   "execution_count": null,
   "id": "78aa3eab-63f5-435f-8587-805c8af34b7c",
   "metadata": {},
   "outputs": [],
   "source": []
  },
  {
   "cell_type": "code",
   "execution_count": null,
   "id": "64c11062-f7f3-4a3d-a9f0-206094bb4ca6",
   "metadata": {},
   "outputs": [],
   "source": []
  },
  {
   "cell_type": "markdown",
   "id": "0ee4978c-7651-4953-8490-478cd1115107",
   "metadata": {},
   "source": []
  },
  {
   "cell_type": "markdown",
   "id": "8ccb4dd6-c05c-4145-ade0-8ae87a28c8ef",
   "metadata": {},
   "source": [
    "10. Comments\n",
    "- `--` for single line or inline comments\n",
    "- `\\*     *\\` for multi-line comments "
   ]
  },
  {
   "cell_type": "markdown",
   "id": "fae06c51-e7e9-4e44-8be3-35b98c10377d",
   "metadata": {},
   "source": [
    "10. Window Functions\n",
    "Window functions apply aggregate and ranking functions over a particular window (set of rows). OVER clause is used with window functions to define that window. OVER clause does two things:\n",
    "Partitions rows to form set of rows (PARTITION BY clause is used).\n",
    "Orders rows within those partitions into a particular order (ORDER BY clause is used).\n",
    "Various aggregate functions such as SUM(), COUNT(), AVERAGE(), MAX(), and MIN() applied over a particular window (set of rows) are called aggregate window functions.\n",
    "10.1. Aggregation Examples\n",
    "The following query will give you the average salary for each department.\n",
    "SELECT first_name,salary,department,\n",
    "ROUND(AVG(salary) OVER(PARTITION BY department)) as avg_sales_by_dept\n",
    "FROM employees\n",
    "ORDER BY salary DESC\n",
    "result from data sample where aggregation was used by data scientists using SQL\n",
    "Aggregate Window Functions\n",
    "10.2.Ranking the Values\n",
    "The Rank() function is a window function that assigns a rank to each row within a partition of a result set.\n",
    "The following example orders the table by the salary (descending). A rank value of 1 is the highest salary value.\n",
    "SELECT first_name,salary,RANK() OVER(ORDER BY salary DESC)\n",
    "FROM employees\n",
    "result from data sample where ranking was used by data scientists using SQL\n",
    "These are the queries that are used commonly by data professionals.\n",
    "Hope you found it helpful! Thanks for reading!"
   ]
  }
 ],
 "metadata": {
  "kernelspec": {
   "display_name": "Python 3 (ipykernel)",
   "language": "python",
   "name": "python3"
  },
  "language_info": {
   "codemirror_mode": {
    "name": "ipython",
    "version": 3
   },
   "file_extension": ".py",
   "mimetype": "text/x-python",
   "name": "python",
   "nbconvert_exporter": "python",
   "pygments_lexer": "ipython3",
   "version": "3.9.13"
  }
 },
 "nbformat": 4,
 "nbformat_minor": 5
}
