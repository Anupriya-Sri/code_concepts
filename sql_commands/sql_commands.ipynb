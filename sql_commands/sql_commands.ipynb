{
 "cells": [
  {
   "cell_type": "markdown",
   "id": "48777ee1-67bb-49a6-aa0c-6e55b38296cb",
   "metadata": {},
   "source": [
    "# Basic SQL Queries\n",
    "(Below queries are for PostgresSQL)"
   ]
  },
  {
   "cell_type": "markdown",
   "id": "b7558dcf-2236-4c25-814b-91e8d6f7d988",
   "metadata": {},
   "source": [
    "This notebook provides the use case examples for basic SQL commands for querying the data (DQLcommands)"
   ]
  },
  {
   "cell_type": "markdown",
   "id": "c7b8a724-a341-42b7-9081-978e3823e4a8",
   "metadata": {},
   "source": [
    "#### Schema: `Country` table\n",
    "\n",
    "Column  | Type     |\n",
    "--------|----------|\n",
    "name    | varchar  |\n",
    "pop     | integer  |\n",
    "continent | varchar |\n",
    "capital | varchar |"
   ]
  },
  {
   "cell_type": "markdown",
   "id": "4e9f3b4e-1323-4138-b980-e31c4702f8d2",
   "metadata": {},
   "source": [
    "### 1.1. SELECT\n",
    "(To extract specific columns from a table. This operation is called `Projection`)"
   ]
  },
  {
   "cell_type": "markdown",
   "id": "5d458b7c-df7f-449a-a411-5bf55d4df8e6",
   "metadata": {},
   "source": [
    "- From country table, Select capital and population columns: <br>\n",
    "\n",
    "\t\tSELECT\n",
    "\t\t\tcapital, pop\n",
    "\t\tFROM\n",
    "\t\t\tcountry;\n",
    "        \n",
    "- Select ALL COLUMNS (`*`) columns: <br>\n",
    "\n",
    "\t\tSELECT\n",
    "\t\t\t*\n",
    "\t\tFROM\n",
    "\t\t\tcountry;\n",
    "            \n",
    "- Select `DISTINCT` continent names: <br>\n",
    "\n",
    "\t\tSELECT\n",
    "\t\t\tDISTINCT continent\n",
    "\t\tFROM\n",
    "\t\t\tcountry;\n",
    "\t\t\n",
    "- Select DISTINCT combination of continent and region columns. This gives unique combination of multiple column names and not unique values for any specific column: <br>\n",
    "\n",
    "\t\tSELECT\n",
    "\t\t\tDISTINCT continent, region\n",
    "\t\tFROM\n",
    "\t\t\tcountry;\n",
    "\t\t\n",
    "- Select column with `AS` Alias name: <br>\n",
    "\n",
    "\t\tSELECT\n",
    "\t\t\tavg_pop AS \"Average Population\"\n",
    "\t\tFROM\n",
    "\t\t\tcountry;\n",
    "\t\t   "
   ]
  },
  {
   "cell_type": "markdown",
   "id": "57c57860-4636-492e-aa6a-940d645f0224",
   "metadata": {},
   "source": [
    "**Note:**\n",
    "- SELECT is the only command in SQL that can be used for doing computations e.g. SELECT pop/100. AS avg_pop FROM country. If 100 is given without `.`, it will truncate the value to integer.\n",
    "- `\" \"` is used for names only when identifiers have spaces between them.\n",
    "- Select DISTINCT for any specific columns (Postgres specific command): <br>\n",
    "    SELECT DISTINCT ON (continent) continent, region FROM country;"
   ]
  },
  {
   "cell_type": "markdown",
   "id": "635f8246-b68c-4b66-9305-2439ad8d5e88",
   "metadata": {},
   "source": [
    "### CAST - AS\n",
    "(Used for Datatype conversion)\n",
    "\n",
    "\t\tSELECT\n",
    "\t\t\tCAST(AVG(pop) AS integer) AS \"Average Population\"\n",
    "\t\tFROM\n",
    "\t\t\tcountry; \n",
    "- FLOOR() can be used for downward casting from float to integer"
   ]
  },
  {
   "cell_type": "markdown",
   "id": "bfd6848d-1712-4ed3-b9bf-9cc4a85f9e7c",
   "metadata": {},
   "source": [
    "### 2. WHERE\n",
    "(To filter rows based on condition on specific fields)"
   ]
  },
  {
   "cell_type": "markdown",
   "id": "12776e8d-6f44-4d4f-82f5-d6889a352d94",
   "metadata": {},
   "source": [
    "From country table, Select all capital cities in Asia: <br>\n",
    "\n",
    "\t\tSELECT\n",
    "\t\t\tcountry, capital\n",
    "\t\tFROM\n",
    "\t\t\tcountry\n",
    "\t\tWHERE\n",
    "\t\t\tcontinent='Asia';      \n",
    "**Note:**\n",
    "- Aliases cannot be used in the WHERE clause. This is because SQL first filters, then selects. So, alias is not available when WHERE clause is executed."
   ]
  },
  {
   "cell_type": "markdown",
   "id": "0cc5bd55-3d71-432c-a746-b16f66bcfc62",
   "metadata": {},
   "source": [
    "#### Condition Operators\n",
    "- Comparison (`=`, `<>`, `<`, `<=`, `>`, `>=`)\n",
    "- Pattern Matching (`LIKE`, `NOT LIKE`, `ILIKE`): ILIKE is for case insensitive\n",
    "- Range (`BETWEEN`, `NOT BETWEEN`): checks if value is between two numbers, letters or times (both inclusive)\n",
    "- List (`IN`, `NOT IN`): check IF value is in a list e.g. column_name [NOT] IN (val1, val2, val3)\n",
    "- Null Testing (`IS NULL`)\n",
    "\n",
    "#### Logical Operators\n",
    "- `AND`, `OR` combine multiple conditions. By default, AND takes precedence over OR/ NOT. SO, we need to use `( )` to specify the order of logical operators.\n",
    "- `NOT` negates a condition e.g. WHERE NOT condition\n",
    "\n",
    "#### Pattern Matching\n",
    "- Using Like, ILike\n",
    "- % : any number of characters. `ESCAPE` to ignore a character: **WHERE name LIKE '%$%%' ESCAPE '$'\n",
    "- _ : for single character (__ : two characters, and so on)\n",
    "- `REGEXP`/ `NOT REGEXP`: performs a pattern match of a string expression against a pattern. The pattern is supplied as an argument e.g. WHERE name REGEXP '^[aeiou]', checks condition where name starts with vowel."
   ]
  },
  {
   "cell_type": "markdown",
   "id": "8e7d4e40-ae5e-4cb5-b20d-308a42f82b24",
   "metadata": {},
   "source": [
    "### 3. GROUP BY\n",
    "(To group rows based on common values in a column, and extract aggregate values)"
   ]
  },
  {
   "cell_type": "markdown",
   "id": "9c824f55-8a0e-4adc-b46c-ab7206b2d338",
   "metadata": {},
   "source": [
    "From country table, get total population of continents: <br>\n",
    "    \n",
    "\t\tSELECT\n",
    "\t\t\tSUM(pop) AS total_population, continent\n",
    "\t\tFROM\n",
    "\t\t\tcountry\n",
    "\t\tGROUP BY\n",
    "\t\t\tcontinent;   "
   ]
  },
  {
   "cell_type": "markdown",
   "id": "1fbf4bd0-d283-4811-96e6-a5a47f8283fd",
   "metadata": {},
   "source": [
    "**Notes:**\n",
    "- When GROUP BY clause is used, columns cannot be included in SELECT without aggregation functions except those columns have been used from Grouping\n",
    "- Aggregation functions can be SUM, AVG, MAX, MIN, COUNT. Aggregation functions cannot be used in WHERE clause for filtering rows\n",
    "- Alias can be specified (e.g. total_poulation)\n",
    "- GROUP BY comes after the WHERE clause and before ORDER BY clause\n",
    "- We can use multiple columns in the GROUP BY clause, and all unique combination of those columns would be returned back."
   ]
  },
  {
   "cell_type": "markdown",
   "id": "dca4d52d-d4bd-4764-881d-c706b534d644",
   "metadata": {},
   "source": [
    "### HAVING\n",
    "(Aggregation functions cannot be in WHERE clause for filtering rows. To filter using aggregate values at grouped level, HAVING clause is used)\n",
    "\n",
    "From country table, get continents with total population > 1000000: <br>\n",
    "  \n",
    "\t\tSELECT\n",
    "\t\t\tSUM(pop) AS total_population, continent\n",
    "\t\tFROM\n",
    "\t\t\tcountry\n",
    "\t\tGROUP BY\n",
    "\t\t\tcontinent \n",
    "\t\tHAVING\n",
    "\t\t\tSUM(pop) > 1000000; \n",
    "\n",
    "    \n",
    "Notes:\n",
    "- HAVING comes just after GROUP BY, it is a part of the group by clause   \n",
    "- Alias cannot be used in grouping and filtering clauses. This is because aggregate function are applied on the grouped and selected data, and alias is not available before that.\n",
    "- **WHERE is used for column filters, HAVING is used for group filters**\n",
    "- **WHERE is used before GROUP BY, HAVING is used after GROUP BY**"
   ]
  },
  {
   "cell_type": "markdown",
   "id": "734a5bc9-b54d-408f-b0ac-3e1af45f211f",
   "metadata": {},
   "source": [
    "### Aggregation Functions\n",
    "(Performed overall on the selected column)\n",
    "\n",
    "- COUNT()\n",
    "- MIN(), MAX()\n",
    "- SUM(), AVG()\n",
    "\n",
    "Note:\n",
    "- All aggregation function ignore NULL values, except COUNT(*)\n",
    "- MIN(), MAX() can be used for string values also\n",
    "- Multiple aggregation functions can be used together but cannot have non-aggregated columns along with an aggregate column, unless the non-aggregated column is used in GROUP BY clause.\n",
    "- Aggregation functions are executed after Selection, so, we CANNOT use aggregation functions within the WHERE clause. We use SUB-QUERIES for this."
   ]
  },
  {
   "cell_type": "markdown",
   "id": "468247b7-b3be-4d2a-9653-85cbea8ab2d0",
   "metadata": {},
   "source": [
    "### 4. ORDER BY\n",
    "(To sort in ascending or descending order)\n",
    "\n",
    "From country table, get total population of continents. Sort in ascending order: <br>\n",
    "\n",
    "\t\tSELECT\n",
    "\t\t\tSUM(pop) AS total_pop, continent\n",
    "\t\tFROM\n",
    "\t\t\tcountry\n",
    "\t\tGROUP BY\n",
    "\t\t\tcontinent \n",
    "\t\tORDER BY\n",
    "\t\t\ttotal_pop; \n",
    "\n",
    "**Notes:**\n",
    "- Default Order is ASC (ascending), uses ORDER BY total_pop `DESC` for sorting in descending order. \n",
    "- Alias can be used in ORDER BY clause\n",
    "- Can specify ORDER BY multiple columns: `ORDER BY total_pop DESC, continent ASC`. When multiple columns are used, the first is primary sort and next is secondary sort.\n",
    "- ORDER BY column should appear in the SELECT clause because Ordering happens after Select."
   ]
  },
  {
   "cell_type": "markdown",
   "id": "44a2b4d1-b843-4e6b-b447-af20348e1089",
   "metadata": {},
   "source": [
    "### 5. LIMIT\n",
    "(To specify the number of rows to return)\n",
    "\n",
    "From country table, select the two largest continents in terms of total population: <br>\n",
    "\n",
    "\t\tSELECT\n",
    "\t\t\tSUM(pop) AS total_pop, continent\n",
    "\t\tFROM\n",
    "\t\t\tcountry\n",
    "\t\tGROUP BY\n",
    "\t\t\tcontinent \n",
    "\t\tORDER BY\n",
    "\t\t\ttotal_pop DESC\n",
    "\t\tLIMIT\n",
    "\t\t\t2; \n",
    "    \n",
    "Note: Limit restricts the number of actual rows returned by the query, and makes the program more memory efficient. This is different from pandas dataframe .head(), where limited number of rows are visible but all are loaded in the memory."
   ]
  },
  {
   "cell_type": "markdown",
   "id": "6eccbe0f-4185-4ab6-8e41-5a5854b10db1",
   "metadata": {},
   "source": [
    "### OFFSET\n",
    "(To specify the number of rows to return, after skipping initial `offset` number of rows)"
   ]
  },
  {
   "cell_type": "markdown",
   "id": "ad488e50-203b-4a28-8292-81a6029e8f2c",
   "metadata": {},
   "source": [
    "From country table, select the second and third largest continents in terms of total population (i.e skip the first row): <br>\n",
    "    \n",
    "\t\tSELECT --(same as above)--\n",
    "\t\tORDER BY\n",
    "\t\t\ttotal_pop DESC\n",
    "\t\tLIMIT\n",
    "\t\t\t2 OFFSET 1;    "
   ]
  },
  {
   "cell_type": "markdown",
   "id": "15aef8d3-d10a-43e1-8dc1-704431d62ce5",
   "metadata": {},
   "source": [
    "### 6. CASE - WHEN clause\n",
    "\n",
    "To set the value of one column conditionally depending upon the value of another column e.g.: <br>\n",
    "\n",
    "\tSELECT\n",
    "\t\tCASE\n",
    "\t\t\tWHEN runtime > 90 THEN 'long'\n",
    "\t\t\tWHEN runtime BETWEEN 30 AND 90 THEN 'normal'\n",
    "\t\t\tELSE 'short'\n",
    "\t\tEND AS run_type\n",
    "        \n",
    "General format for CASE-WHEN is:\n",
    "\n",
    "\tSELECT\n",
    "\t\tCASE\n",
    "\t\t\tWHEN condition_1 THEN expression_1\n",
    "\t\t\tWHEN condition_2 THEN expression_2\n",
    "\t\t\tELSE expression_3\n",
    "\t\tEND AS alias"
   ]
  },
  {
   "cell_type": "markdown",
   "id": "edfcd464-1995-4b40-93cb-d0777c99bcfb",
   "metadata": {},
   "source": [
    "### 7. JOINS\n",
    "(To retrieve data from two or more tables simultaneously and create virtual tables from a database)\n",
    "\n",
    "\t\tSELECT\n",
    "\t\t\tcolumns\n",
    "\t\tFROM\n",
    "\t\t\tleft_table\n",
    "\t\t\tJOIN_TYPE\n",
    "\t\t\tright_table\n",
    "\t\t\tON\n",
    "\t\t\tjoin_condition\n",
    "\t\tWHERE\n",
    "\t\t\trow_filter;"
   ]
  },
  {
   "cell_type": "markdown",
   "id": "816720fc-6dfa-4bc4-b8b4-d7e5f52a7a6a",
   "metadata": {},
   "source": [
    "**Type of Joins**\n",
    "\n",
    "**A. CROSS_JOIN**\n",
    "- Combines all rows of one table with all rows of the other table, without any condition (m x n rows)\n",
    "\n",
    "\t\tSELECT\n",
    "\t\t\tt1.col1, t2.col2\n",
    "\t\tFROM\n",
    "\t\t\tleft_table t1\n",
    "\t\t\tCROSS JOIN\n",
    "\t\t\tright_table t2\n",
    "\t\t\tON\n",
    "\t\t\tjoin_condition;\n",
    "\n",
    "Note: \n",
    "- If there are common column names, we use simple table aliases or full table name before the column names.\n",
    "- Table aliases are valid only for the duration of the query\n",
    "- Each join is initially a CROSS JOIN, and then filtered based on condition.\n",
    "- If alias is given, then we have to use the alias all the time, throughout the query, because we have decided to change the name of the table.\n",
    "- `USING` can be used instead of `ON`, to select the columns whose value needs to be matched </br>\n",
    "   SELECT * FROM table1 AS t1 JOIN table2 AS t2 USING (col1, col2, col3)"
   ]
  },
  {
   "cell_type": "markdown",
   "id": "d556ffd6-b810-4d1f-8a0a-0f31b18b1257",
   "metadata": {},
   "source": [
    "**B. INNER_JOIN**\n",
    "- Intersection: only retrieves rows that are common to both the tables\n",
    "- Only returns the records for which key are matched between the two or more tables\n",
    "\n",
    "\t\tSELECT\n",
    "\t\t\tt1.col1, t2.col2\n",
    "\t\tFROM\n",
    "\t\t\tleft_table t1\n",
    "\t\t\tINNER JOIN\n",
    "\t\t\tright_table t2\n",
    "\t\t\tON\n",
    "\t\t\tt1.col3 = t2.col3;"
   ]
  },
  {
   "cell_type": "markdown",
   "id": "cff62863-b083-482f-9c75-ba53bded11a8",
   "metadata": {},
   "source": [
    "**C. SELF_JOIN**\n",
    "- To Join all rows from one table with itself.\n",
    "- Use case: Find pairs of countries that are in the same continent\n",
    "- Same table has two aliases\n",
    "\n",
    "\t\tSELECT\n",
    "\t\t\tt1.name, t2.name\n",
    "\t\tFROM\n",
    "\t\t\tcountry t1\n",
    "\t\t\tJOIN\n",
    "\t\t\tcountry t2\n",
    "\t\t\tON\n",
    "\t\t\tt1.continent = t2.continent\n",
    "\t\t\tAND t1.id <> t2.id;\n",
    "\n",
    "Note: t1.id <> t2.id is used to remove self mapped names"
   ]
  },
  {
   "cell_type": "markdown",
   "id": "90bf5ad1-5f78-4b9a-81f5-5f33c2944b8c",
   "metadata": {},
   "source": [
    "**D. NATURAL JOIN**\n",
    "- Automatically joins all columns with similar values"
   ]
  },
  {
   "cell_type": "markdown",
   "id": "3878767a-c76f-440d-b710-ec86a547ad1e",
   "metadata": {},
   "source": [
    "**E. LEFT OUTER JOIN / LEFT JOIN**\n",
    "- All values from left table are returned and only matching values from the right table are returned. If no matching values are found in the right table, NULL is returned.\n",
    "\n",
    "**F. RIGHT OUTER JOIN / RIGHT JOIN**\n",
    "- All values from right table are returned and only matching values from the left table are returned. If no matching values are found in the left table, NULL is returned.\n",
    "\n",
    "**G. FULL OUTER JOIN / FULL JOIN**\n",
    "- Full join combines the left Outer Join and Right Outer Join\n",
    "- Cross Join matches all rows regardless of any condition and has no NULL Values. Full join first finds the matching rows and then adds the non-matching rows with NULL values."
   ]
  },
  {
   "cell_type": "markdown",
   "id": "bf8d2946-1add-4833-b736-51c48b360055",
   "metadata": {},
   "source": [
    "### 8. SUBQUERIES\n",
    "\n",
    "A SELECT statement that can be used inside another SQL statement. So, subquery is a nested/ INNER query within a larger/OUTER query.\n",
    "\n",
    "Notes:\n",
    "- SUB-QUERIES must be enclosed in `( )` and should not end with `,`\n",
    "- Can be used in SELECT, FROM, WHERE, HAVING or other clauses\n",
    "- SUBQUERIES vs JOIN: Subqueries are generally more readable but they do not give access to columns in the INNER table. Joins are generally faster but joins give a lot of redundant data during join and then filter, so it is more memory intensive. "
   ]
  },
  {
   "cell_type": "markdown",
   "id": "96672410-e547-4900-885c-6fb62f058aab",
   "metadata": {},
   "source": [
    "**SIMPLE/ UNCORRELATED SUBQUERY:** A subquery where the inner query is completely independent of the outer query\n",
    "\n",
    "e.g. SELECT countries whose area is more than the average area for all countries\n",
    "\n",
    "\t\tSELECT\n",
    "\t\t\tname\n",
    "\t\tFROM\n",
    "\t\t\tcountry\n",
    "\t\tWHERE\n",
    "\t\t\tarea > \n",
    "\t\t\t(SELECT AVG(area) FROM country);"
   ]
  },
  {
   "cell_type": "markdown",
   "id": "1066536c-9136-47cd-a442-9068aa598833",
   "metadata": {},
   "source": [
    "**CORRELATED SUBQUERY:** The outer query is dependent upon what is happening in the inner query. In this SQL goes row by row in the original query and compares it to each row in the inner query i.e. every row in a table is compared against related data. Correlated subquery is used when the subquery has to return different results for each row of the original query. This is analogous to nested for-loop in python. It has big-O of n^2. Hence, it is very slow.\n",
    "\n",
    "e.g. SELECT country from each continent which has the maximum population in that continent\n",
    "\n",
    "\t\tSELECT\n",
    "\t\t\tc1.name, c1.continent\n",
    "\t\tFROM\n",
    "\t\t\tcountry c1\n",
    "\t\tWHERE\n",
    "\t\t\tc1.population = \n",
    "\t\t\t(SELECT max(c2.population) FROM country c2 \n",
    "\t\t\tWHERE c2.continent = c1.continent);"
   ]
  },
  {
   "cell_type": "markdown",
   "id": "da894c2f-84d7-4509-aa89-3b2d97490c22",
   "metadata": {},
   "source": [
    "#### ANY / ALL\n",
    "\n",
    "These key words are used to check if the values in outer query are equal to `Any` or `All` values in the inner query."
   ]
  },
  {
   "cell_type": "markdown",
   "id": "79b90b18-67f0-4759-b87d-918ea1818120",
   "metadata": {},
   "source": [
    "#### EXISTS / NOT EXISTS\n",
    "\n",
    "This key word is used to determine if the sub-query returns any row. It can be used in simple or correlated queries but are typically used in correlated sub-queries."
   ]
  },
  {
   "cell_type": "markdown",
   "id": "add08c0a-5c6e-498e-98e2-a558aed8926d",
   "metadata": {},
   "source": [
    "#### UNION, INTERSECT, EXCEPT \n",
    "\n",
    "(To combine output from two or more queries)\n",
    "\n",
    "\t\t(Query-1) \n",
    "\t\tUNION/ INTERSECT/ EXCEPT\n",
    "\t\t(Query-2)"
   ]
  },
  {
   "cell_type": "markdown",
   "id": "6db3739a-f7e5-4a58-b2eb-3ed8c848e355",
   "metadata": {},
   "source": [
    "### 9. Windows Functions"
   ]
  },
  {
   "cell_type": "markdown",
   "id": "6c254ef1-ce46-4a24-95a4-13ff741f6842",
   "metadata": {},
   "source": [
    "A window is a set of rows defined using the `OVER` clause. The Window functions are used to apply aggregation and ranking functions over a particular window. \n",
    "\n",
    "Various aggregate functions such as SUM(), COUNT(), AVERAGE(), MAX(), and MIN() applied over a particular window (set of rows) are called aggregate window functions."
   ]
  },
  {
   "cell_type": "markdown",
   "id": "d0a05a45-5c58-4b42-882f-9260626b5f53",
   "metadata": {},
   "source": [
    "#### OVER\n",
    "\n",
    "- Partitions rows to form set of rows: `OVER(PARTITION BY condition)`\n",
    "- Orders rows within the partitions in a particular order (`ORDER BY`)"
   ]
  },
  {
   "cell_type": "markdown",
   "id": "f9633d7f-8aa2-4be3-83f3-0b5d6b723565",
   "metadata": {},
   "source": [
    "#### Aggregation OVER Partitions\n",
    "\n",
    "e.g. get average population for each continent\n",
    "\n",
    "\t\tSELECT\n",
    "\t\t\tname, pop, continent,\n",
    "\t\t\tROUND(AVG(pop) OVER(PARTITION BY continent)) AS avg_pop_by_cont\n",
    "\t\tFROM\n",
    "\t\t\tcountry\n",
    "\t\tORDER BY\n",
    "\t\t\tpop DESC;"
   ]
  },
  {
   "cell_type": "markdown",
   "id": "6247fa2f-a182-4f55-a375-c8de2c2204b1",
   "metadata": {},
   "source": [
    "#### Ranking OVER Partitions\n",
    "Rank() function assigns a rank to each row within a partition of a result set.\n",
    "\n",
    "e.g. order by the population (descending). A rank value of 1 represents the highest population.\n",
    "\n",
    "\t\tSELECT\n",
    "\t\t\tname, pop,\n",
    "\t\t\tRANK() OVER(ORDER BY pop DESC)\n",
    "\t\tFROM\n",
    "\t\t\tcountry"
   ]
  },
  {
   "cell_type": "markdown",
   "id": "747d6bcf-5bce-4e69-96df-edf0ca41b673",
   "metadata": {},
   "source": [
    "### 10. Basic Operators on DATA TYPES"
   ]
  },
  {
   "cell_type": "markdown",
   "id": "c6d10cc0-d7e3-47f5-be5f-e489a0952a55",
   "metadata": {},
   "source": [
    "### Arithematic\n",
    "\n",
    "- Operators: +, -, *, /, % (modulo, remainder), ^ (exponent), @ (absolute value, without sign)\n",
    "- Functions: abs(), ceil(), exp(), floor(), ln(), log(), pi(), power(), round(), sqrt(), round() works only with NUMERIC data types and not with REAL"
   ]
  },
  {
   "cell_type": "markdown",
   "id": "828fea22-5ff4-4eb6-9553-280690d7ee0f",
   "metadata": {},
   "source": [
    "### String\n",
    "\n",
    "- Concatenation `||`. Non string values are type casted to String.\n",
    "- length(), lower(), upper(), position(substring in string): count starts with 1, \n",
    "- substring(string, from position, for characters), right(string, number of characters), left(string, number of characters)"
   ]
  },
  {
   "cell_type": "markdown",
   "id": "037979f1-c48c-423a-8c9a-27cf017cc215",
   "metadata": {},
   "source": [
    "### Datetime\n",
    "\n",
    "- +, -, *, / : works on datetime objects\n",
    "- CURRENT_DATE, NOW(), CURRENT_TIME(0), CURRENT_TIMESTAMP(0), LOCALTIME(0), LOCALTIMESTAMP(0) : Number represents precision of the date-time object\n",
    "- `EXTRACT` is used to take out bits of date-time object: EXTRACT (hour FROM NOW())\n",
    "- age() function to calculate age from start\n",
    "- PostgreSQL specific functions to extract values from date columns: </br>\n",
    "SELECT </br>\n",
    "date_part('year',date_col) as year, </br>\n",
    "date_part('month',date_col) as month, </br>\n",
    "date_part('day',date_col) as day, </br>\n",
    "date_part('dow',date_col) as dayofweek, </br>\n",
    "to_char(date_col, 'Dy') as day_name, </br>\n",
    "to_char(date_col,'Month') as month_name, </br>\n",
    "date_col </br>\n",
    "FROM table_name"
   ]
  },
  {
   "cell_type": "markdown",
   "id": "1cd8e2d0-4470-42b5-b678-b496279273b3",
   "metadata": {},
   "source": [
    "#### Order of Operations: Arithmetic (+, *) >> Comparison (<, >=) >> Logical (AND, OR)"
   ]
  },
  {
   "cell_type": "markdown",
   "id": "eaa11020-5613-4f76-9807-ef3a081addf5",
   "metadata": {},
   "source": [
    "### 11. Miscellaneous Commands"
   ]
  },
  {
   "cell_type": "markdown",
   "id": "9d5d8cfc-7c06-40f7-a5c3-f1621715e282",
   "metadata": {},
   "source": [
    "#### Timezone\n",
    "\n",
    "- Show current timezone: SHOW TIMEZONE\n",
    "- Change current timezone: SET timezone = 'America/New_York'"
   ]
  },
  {
   "cell_type": "markdown",
   "id": "5c0a0f8b-63c0-49f2-bdca-2809da56848a",
   "metadata": {},
   "source": [
    "#### NULLIF\n",
    "(Returns NULL value if column contains a certain value)\t\n",
    "\t\n",
    "\tSELECT\n",
    "\t\tNULLIF(column_name, value)\n",
    "\tFROM\n",
    "\t\ttable_name"
   ]
  },
  {
   "cell_type": "markdown",
   "id": "9a27c021-ae8e-4f88-a602-2c8d6fa4ec56",
   "metadata": {},
   "source": [
    "#### Comments\n",
    "\n",
    "- `--` for single line or inline comments\n",
    "- `\\*     *\\` for multi-line comments "
   ]
  },
  {
   "cell_type": "markdown",
   "id": "af716c2f-58ed-4786-a484-b0d6a40cda29",
   "metadata": {},
   "source": [
    "#### Version\n",
    "- To show version of Postgres: SELECT version()"
   ]
  },
  {
   "cell_type": "code",
   "execution_count": null,
   "id": "1e38a83f-98f6-42bc-9589-2fb8919ce8f1",
   "metadata": {},
   "outputs": [],
   "source": []
  }
 ],
 "metadata": {
  "kernelspec": {
   "display_name": "Python 3 (ipykernel)",
   "language": "python",
   "name": "python3"
  },
  "language_info": {
   "codemirror_mode": {
    "name": "ipython",
    "version": 3
   },
   "file_extension": ".py",
   "mimetype": "text/x-python",
   "name": "python",
   "nbconvert_exporter": "python",
   "pygments_lexer": "ipython3",
   "version": "3.9.13"
  }
 },
 "nbformat": 4,
 "nbformat_minor": 5
}
